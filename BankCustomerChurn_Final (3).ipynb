{
 "cells": [
  {
   "cell_type": "markdown",
   "id": "ea7887f7",
   "metadata": {},
   "source": [
    "# Importing packages and reading data"
   ]
  },
  {
   "cell_type": "code",
   "execution_count": 1,
   "id": "6ec34dad",
   "metadata": {},
   "outputs": [],
   "source": [
    "import pandas as pd\n",
    "from sklearn.neighbors import KNeighborsRegressor, KNeighborsClassifier\n",
    "from sklearn.model_selection import train_test_split, validation_curve\n",
    "import matplotlib.pyplot as plt\n",
    "%matplotlib inline  \n",
    "# allows you to do visualizations in the code"
   ]
  },
  {
   "cell_type": "code",
   "execution_count": 2,
   "id": "9e818118",
   "metadata": {},
   "outputs": [
    {
     "data": {
      "text/html": [
       "<div>\n",
       "<style scoped>\n",
       "    .dataframe tbody tr th:only-of-type {\n",
       "        vertical-align: middle;\n",
       "    }\n",
       "\n",
       "    .dataframe tbody tr th {\n",
       "        vertical-align: top;\n",
       "    }\n",
       "\n",
       "    .dataframe thead th {\n",
       "        text-align: right;\n",
       "    }\n",
       "</style>\n",
       "<table border=\"1\" class=\"dataframe\">\n",
       "  <thead>\n",
       "    <tr style=\"text-align: right;\">\n",
       "      <th></th>\n",
       "      <th>credit_score</th>\n",
       "      <th>country</th>\n",
       "      <th>gender</th>\n",
       "      <th>age</th>\n",
       "      <th>tenure</th>\n",
       "      <th>balance</th>\n",
       "      <th>products_number</th>\n",
       "      <th>credit_card</th>\n",
       "      <th>active_member</th>\n",
       "      <th>estimated_salary</th>\n",
       "      <th>churn</th>\n",
       "    </tr>\n",
       "    <tr>\n",
       "      <th>customer_id</th>\n",
       "      <th></th>\n",
       "      <th></th>\n",
       "      <th></th>\n",
       "      <th></th>\n",
       "      <th></th>\n",
       "      <th></th>\n",
       "      <th></th>\n",
       "      <th></th>\n",
       "      <th></th>\n",
       "      <th></th>\n",
       "      <th></th>\n",
       "    </tr>\n",
       "  </thead>\n",
       "  <tbody>\n",
       "    <tr>\n",
       "      <th>15634602</th>\n",
       "      <td>619</td>\n",
       "      <td>France</td>\n",
       "      <td>Female</td>\n",
       "      <td>42</td>\n",
       "      <td>2</td>\n",
       "      <td>0.00</td>\n",
       "      <td>1</td>\n",
       "      <td>1</td>\n",
       "      <td>1</td>\n",
       "      <td>101348.88</td>\n",
       "      <td>1</td>\n",
       "    </tr>\n",
       "    <tr>\n",
       "      <th>15647311</th>\n",
       "      <td>608</td>\n",
       "      <td>Spain</td>\n",
       "      <td>Female</td>\n",
       "      <td>41</td>\n",
       "      <td>1</td>\n",
       "      <td>83807.86</td>\n",
       "      <td>1</td>\n",
       "      <td>0</td>\n",
       "      <td>1</td>\n",
       "      <td>112542.58</td>\n",
       "      <td>0</td>\n",
       "    </tr>\n",
       "    <tr>\n",
       "      <th>15619304</th>\n",
       "      <td>502</td>\n",
       "      <td>France</td>\n",
       "      <td>Female</td>\n",
       "      <td>42</td>\n",
       "      <td>8</td>\n",
       "      <td>159660.80</td>\n",
       "      <td>3</td>\n",
       "      <td>1</td>\n",
       "      <td>0</td>\n",
       "      <td>113931.57</td>\n",
       "      <td>1</td>\n",
       "    </tr>\n",
       "  </tbody>\n",
       "</table>\n",
       "</div>"
      ],
      "text/plain": [
       "             credit_score country  gender  age  tenure    balance  \\\n",
       "customer_id                                                         \n",
       "15634602              619  France  Female   42       2       0.00   \n",
       "15647311              608   Spain  Female   41       1   83807.86   \n",
       "15619304              502  France  Female   42       8  159660.80   \n",
       "\n",
       "             products_number  credit_card  active_member  estimated_salary  \\\n",
       "customer_id                                                                  \n",
       "15634602                   1            1              1         101348.88   \n",
       "15647311                   1            0              1         112542.58   \n",
       "15619304                   3            1              0         113931.57   \n",
       "\n",
       "             churn  \n",
       "customer_id         \n",
       "15634602         1  \n",
       "15647311         0  \n",
       "15619304         1  "
      ]
     },
     "execution_count": 2,
     "metadata": {},
     "output_type": "execute_result"
    }
   ],
   "source": [
    "# reading the data\n",
    "CustomerChurn= pd.read_csv('Bank Customer Churn Prediction.csv', index_col= 0)\n",
    "CustomerChurn.head(3)"
   ]
  },
  {
   "cell_type": "markdown",
   "id": "b4ffff11",
   "metadata": {},
   "source": [
    "# Understanding our data"
   ]
  },
  {
   "cell_type": "code",
   "execution_count": 3,
   "id": "97dcf02b",
   "metadata": {},
   "outputs": [
    {
     "data": {
      "text/html": [
       "<div>\n",
       "<style scoped>\n",
       "    .dataframe tbody tr th:only-of-type {\n",
       "        vertical-align: middle;\n",
       "    }\n",
       "\n",
       "    .dataframe tbody tr th {\n",
       "        vertical-align: top;\n",
       "    }\n",
       "\n",
       "    .dataframe thead tr th {\n",
       "        text-align: left;\n",
       "    }\n",
       "\n",
       "    .dataframe thead tr:last-of-type th {\n",
       "        text-align: right;\n",
       "    }\n",
       "</style>\n",
       "<table border=\"1\" class=\"dataframe\">\n",
       "  <thead>\n",
       "    <tr>\n",
       "      <th></th>\n",
       "      <th colspan=\"8\" halign=\"left\">age</th>\n",
       "      <th colspan=\"5\" halign=\"left\">balance</th>\n",
       "      <th colspan=\"8\" halign=\"left\">estimated_salary</th>\n",
       "    </tr>\n",
       "    <tr>\n",
       "      <th></th>\n",
       "      <th>count</th>\n",
       "      <th>mean</th>\n",
       "      <th>std</th>\n",
       "      <th>min</th>\n",
       "      <th>25%</th>\n",
       "      <th>50%</th>\n",
       "      <th>75%</th>\n",
       "      <th>max</th>\n",
       "      <th>count</th>\n",
       "      <th>mean</th>\n",
       "      <th>...</th>\n",
       "      <th>75%</th>\n",
       "      <th>max</th>\n",
       "      <th>count</th>\n",
       "      <th>mean</th>\n",
       "      <th>std</th>\n",
       "      <th>min</th>\n",
       "      <th>25%</th>\n",
       "      <th>50%</th>\n",
       "      <th>75%</th>\n",
       "      <th>max</th>\n",
       "    </tr>\n",
       "    <tr>\n",
       "      <th>churn</th>\n",
       "      <th></th>\n",
       "      <th></th>\n",
       "      <th></th>\n",
       "      <th></th>\n",
       "      <th></th>\n",
       "      <th></th>\n",
       "      <th></th>\n",
       "      <th></th>\n",
       "      <th></th>\n",
       "      <th></th>\n",
       "      <th></th>\n",
       "      <th></th>\n",
       "      <th></th>\n",
       "      <th></th>\n",
       "      <th></th>\n",
       "      <th></th>\n",
       "      <th></th>\n",
       "      <th></th>\n",
       "      <th></th>\n",
       "      <th></th>\n",
       "      <th></th>\n",
       "    </tr>\n",
       "  </thead>\n",
       "  <tbody>\n",
       "    <tr>\n",
       "      <th>0</th>\n",
       "      <td>7963.0</td>\n",
       "      <td>37.408389</td>\n",
       "      <td>10.125363</td>\n",
       "      <td>18.0</td>\n",
       "      <td>31.0</td>\n",
       "      <td>36.0</td>\n",
       "      <td>41.0</td>\n",
       "      <td>92.0</td>\n",
       "      <td>7963.0</td>\n",
       "      <td>72745.296779</td>\n",
       "      <td>...</td>\n",
       "      <td>126410.28</td>\n",
       "      <td>221532.80</td>\n",
       "      <td>7963.0</td>\n",
       "      <td>99738.391772</td>\n",
       "      <td>57405.586966</td>\n",
       "      <td>90.07</td>\n",
       "      <td>50783.49</td>\n",
       "      <td>99645.04</td>\n",
       "      <td>148609.955</td>\n",
       "      <td>199992.48</td>\n",
       "    </tr>\n",
       "    <tr>\n",
       "      <th>1</th>\n",
       "      <td>2037.0</td>\n",
       "      <td>44.837997</td>\n",
       "      <td>9.761562</td>\n",
       "      <td>18.0</td>\n",
       "      <td>38.0</td>\n",
       "      <td>45.0</td>\n",
       "      <td>51.0</td>\n",
       "      <td>84.0</td>\n",
       "      <td>2037.0</td>\n",
       "      <td>91108.539337</td>\n",
       "      <td>...</td>\n",
       "      <td>131433.33</td>\n",
       "      <td>250898.09</td>\n",
       "      <td>2037.0</td>\n",
       "      <td>101465.677531</td>\n",
       "      <td>57912.418071</td>\n",
       "      <td>11.58</td>\n",
       "      <td>51907.72</td>\n",
       "      <td>102460.84</td>\n",
       "      <td>152422.910</td>\n",
       "      <td>199808.10</td>\n",
       "    </tr>\n",
       "  </tbody>\n",
       "</table>\n",
       "<p>2 rows × 24 columns</p>\n",
       "</div>"
      ],
      "text/plain": [
       "          age                                                     balance  \\\n",
       "        count       mean        std   min   25%   50%   75%   max   count   \n",
       "churn                                                                       \n",
       "0      7963.0  37.408389  10.125363  18.0  31.0  36.0  41.0  92.0  7963.0   \n",
       "1      2037.0  44.837997   9.761562  18.0  38.0  45.0  51.0  84.0  2037.0   \n",
       "\n",
       "                     ...                       estimated_salary  \\\n",
       "               mean  ...        75%        max            count   \n",
       "churn                ...                                          \n",
       "0      72745.296779  ...  126410.28  221532.80           7963.0   \n",
       "1      91108.539337  ...  131433.33  250898.09           2037.0   \n",
       "\n",
       "                                                                            \\\n",
       "                mean           std    min       25%        50%         75%   \n",
       "churn                                                                        \n",
       "0       99738.391772  57405.586966  90.07  50783.49   99645.04  148609.955   \n",
       "1      101465.677531  57912.418071  11.58  51907.72  102460.84  152422.910   \n",
       "\n",
       "                  \n",
       "             max  \n",
       "churn             \n",
       "0      199992.48  \n",
       "1      199808.10  \n",
       "\n",
       "[2 rows x 24 columns]"
      ]
     },
     "execution_count": 3,
     "metadata": {},
     "output_type": "execute_result"
    }
   ],
   "source": [
    "CustomerChurn.groupby('churn')[['age', 'balance', 'estimated_salary']].describe()"
   ]
  },
  {
   "cell_type": "code",
   "execution_count": 4,
   "id": "f987fcb9",
   "metadata": {},
   "outputs": [
    {
     "data": {
      "text/html": [
       "<div>\n",
       "<style scoped>\n",
       "    .dataframe tbody tr th:only-of-type {\n",
       "        vertical-align: middle;\n",
       "    }\n",
       "\n",
       "    .dataframe tbody tr th {\n",
       "        vertical-align: top;\n",
       "    }\n",
       "\n",
       "    .dataframe thead tr th {\n",
       "        text-align: left;\n",
       "    }\n",
       "\n",
       "    .dataframe thead tr:last-of-type th {\n",
       "        text-align: right;\n",
       "    }\n",
       "</style>\n",
       "<table border=\"1\" class=\"dataframe\">\n",
       "  <thead>\n",
       "    <tr>\n",
       "      <th></th>\n",
       "      <th colspan=\"4\" halign=\"left\">gender</th>\n",
       "    </tr>\n",
       "    <tr>\n",
       "      <th></th>\n",
       "      <th>count</th>\n",
       "      <th>unique</th>\n",
       "      <th>top</th>\n",
       "      <th>freq</th>\n",
       "    </tr>\n",
       "    <tr>\n",
       "      <th>churn</th>\n",
       "      <th></th>\n",
       "      <th></th>\n",
       "      <th></th>\n",
       "      <th></th>\n",
       "    </tr>\n",
       "  </thead>\n",
       "  <tbody>\n",
       "    <tr>\n",
       "      <th>0</th>\n",
       "      <td>7963</td>\n",
       "      <td>2</td>\n",
       "      <td>Male</td>\n",
       "      <td>4559</td>\n",
       "    </tr>\n",
       "    <tr>\n",
       "      <th>1</th>\n",
       "      <td>2037</td>\n",
       "      <td>2</td>\n",
       "      <td>Female</td>\n",
       "      <td>1139</td>\n",
       "    </tr>\n",
       "  </tbody>\n",
       "</table>\n",
       "</div>"
      ],
      "text/plain": [
       "      gender                     \n",
       "       count unique     top  freq\n",
       "churn                            \n",
       "0       7963      2    Male  4559\n",
       "1       2037      2  Female  1139"
      ]
     },
     "execution_count": 4,
     "metadata": {},
     "output_type": "execute_result"
    }
   ],
   "source": [
    "CustomerChurn.groupby('churn')[['gender']].describe()"
   ]
  },
  {
   "cell_type": "code",
   "execution_count": 5,
   "id": "00424820",
   "metadata": {},
   "outputs": [
    {
     "data": {
      "text/html": [
       "<div>\n",
       "<style scoped>\n",
       "    .dataframe tbody tr th:only-of-type {\n",
       "        vertical-align: middle;\n",
       "    }\n",
       "\n",
       "    .dataframe tbody tr th {\n",
       "        vertical-align: top;\n",
       "    }\n",
       "\n",
       "    .dataframe thead tr th {\n",
       "        text-align: left;\n",
       "    }\n",
       "\n",
       "    .dataframe thead tr:last-of-type th {\n",
       "        text-align: right;\n",
       "    }\n",
       "</style>\n",
       "<table border=\"1\" class=\"dataframe\">\n",
       "  <thead>\n",
       "    <tr>\n",
       "      <th></th>\n",
       "      <th colspan=\"8\" halign=\"left\">age</th>\n",
       "    </tr>\n",
       "    <tr>\n",
       "      <th></th>\n",
       "      <th>count</th>\n",
       "      <th>mean</th>\n",
       "      <th>std</th>\n",
       "      <th>min</th>\n",
       "      <th>25%</th>\n",
       "      <th>50%</th>\n",
       "      <th>75%</th>\n",
       "      <th>max</th>\n",
       "    </tr>\n",
       "    <tr>\n",
       "      <th>churn</th>\n",
       "      <th></th>\n",
       "      <th></th>\n",
       "      <th></th>\n",
       "      <th></th>\n",
       "      <th></th>\n",
       "      <th></th>\n",
       "      <th></th>\n",
       "      <th></th>\n",
       "    </tr>\n",
       "  </thead>\n",
       "  <tbody>\n",
       "    <tr>\n",
       "      <th>0</th>\n",
       "      <td>7963.0</td>\n",
       "      <td>37.408389</td>\n",
       "      <td>10.125363</td>\n",
       "      <td>18.0</td>\n",
       "      <td>31.0</td>\n",
       "      <td>36.0</td>\n",
       "      <td>41.0</td>\n",
       "      <td>92.0</td>\n",
       "    </tr>\n",
       "    <tr>\n",
       "      <th>1</th>\n",
       "      <td>2037.0</td>\n",
       "      <td>44.837997</td>\n",
       "      <td>9.761562</td>\n",
       "      <td>18.0</td>\n",
       "      <td>38.0</td>\n",
       "      <td>45.0</td>\n",
       "      <td>51.0</td>\n",
       "      <td>84.0</td>\n",
       "    </tr>\n",
       "  </tbody>\n",
       "</table>\n",
       "</div>"
      ],
      "text/plain": [
       "          age                                                    \n",
       "        count       mean        std   min   25%   50%   75%   max\n",
       "churn                                                            \n",
       "0      7963.0  37.408389  10.125363  18.0  31.0  36.0  41.0  92.0\n",
       "1      2037.0  44.837997   9.761562  18.0  38.0  45.0  51.0  84.0"
      ]
     },
     "execution_count": 5,
     "metadata": {},
     "output_type": "execute_result"
    }
   ],
   "source": [
    "CustomerChurn.groupby('churn')[['age']].describe()"
   ]
  },
  {
   "cell_type": "code",
   "execution_count": 6,
   "id": "5330944e",
   "metadata": {},
   "outputs": [
    {
     "data": {
      "text/html": [
       "<div>\n",
       "<style scoped>\n",
       "    .dataframe tbody tr th:only-of-type {\n",
       "        vertical-align: middle;\n",
       "    }\n",
       "\n",
       "    .dataframe tbody tr th {\n",
       "        vertical-align: top;\n",
       "    }\n",
       "\n",
       "    .dataframe thead tr th {\n",
       "        text-align: left;\n",
       "    }\n",
       "\n",
       "    .dataframe thead tr:last-of-type th {\n",
       "        text-align: right;\n",
       "    }\n",
       "</style>\n",
       "<table border=\"1\" class=\"dataframe\">\n",
       "  <thead>\n",
       "    <tr>\n",
       "      <th></th>\n",
       "      <th colspan=\"8\" halign=\"left\">balance</th>\n",
       "    </tr>\n",
       "    <tr>\n",
       "      <th></th>\n",
       "      <th>count</th>\n",
       "      <th>mean</th>\n",
       "      <th>std</th>\n",
       "      <th>min</th>\n",
       "      <th>25%</th>\n",
       "      <th>50%</th>\n",
       "      <th>75%</th>\n",
       "      <th>max</th>\n",
       "    </tr>\n",
       "    <tr>\n",
       "      <th>churn</th>\n",
       "      <th></th>\n",
       "      <th></th>\n",
       "      <th></th>\n",
       "      <th></th>\n",
       "      <th></th>\n",
       "      <th></th>\n",
       "      <th></th>\n",
       "      <th></th>\n",
       "    </tr>\n",
       "  </thead>\n",
       "  <tbody>\n",
       "    <tr>\n",
       "      <th>0</th>\n",
       "      <td>7963.0</td>\n",
       "      <td>72745.296779</td>\n",
       "      <td>62848.040701</td>\n",
       "      <td>0.0</td>\n",
       "      <td>0.00</td>\n",
       "      <td>92072.68</td>\n",
       "      <td>126410.28</td>\n",
       "      <td>221532.80</td>\n",
       "    </tr>\n",
       "    <tr>\n",
       "      <th>1</th>\n",
       "      <td>2037.0</td>\n",
       "      <td>91108.539337</td>\n",
       "      <td>58360.794816</td>\n",
       "      <td>0.0</td>\n",
       "      <td>38340.02</td>\n",
       "      <td>109349.29</td>\n",
       "      <td>131433.33</td>\n",
       "      <td>250898.09</td>\n",
       "    </tr>\n",
       "  </tbody>\n",
       "</table>\n",
       "</div>"
      ],
      "text/plain": [
       "      balance                                                        \\\n",
       "        count          mean           std  min       25%        50%   \n",
       "churn                                                                 \n",
       "0      7963.0  72745.296779  62848.040701  0.0      0.00   92072.68   \n",
       "1      2037.0  91108.539337  58360.794816  0.0  38340.02  109349.29   \n",
       "\n",
       "                             \n",
       "             75%        max  \n",
       "churn                        \n",
       "0      126410.28  221532.80  \n",
       "1      131433.33  250898.09  "
      ]
     },
     "execution_count": 6,
     "metadata": {},
     "output_type": "execute_result"
    }
   ],
   "source": [
    "CustomerChurn.groupby('churn')[['balance']].describe()"
   ]
  },
  {
   "cell_type": "code",
   "execution_count": 7,
   "id": "179145d6",
   "metadata": {},
   "outputs": [
    {
     "data": {
      "text/plain": [
       "0    7963\n",
       "1    2037\n",
       "Name: churn, dtype: int64"
      ]
     },
     "execution_count": 7,
     "metadata": {},
     "output_type": "execute_result"
    }
   ],
   "source": [
    "CustomerChurn.churn.value_counts()"
   ]
  },
  {
   "cell_type": "code",
   "execution_count": 8,
   "id": "926c5c7a",
   "metadata": {},
   "outputs": [
    {
     "data": {
      "text/plain": [
       "1    5084\n",
       "2    4590\n",
       "3     266\n",
       "4      60\n",
       "Name: products_number, dtype: int64"
      ]
     },
     "execution_count": 8,
     "metadata": {},
     "output_type": "execute_result"
    }
   ],
   "source": [
    "CustomerChurn.products_number.value_counts()"
   ]
  },
  {
   "cell_type": "code",
   "execution_count": 9,
   "id": "90fe4f76",
   "metadata": {},
   "outputs": [
    {
     "data": {
      "text/plain": [
       "2     1048\n",
       "1     1035\n",
       "7     1028\n",
       "8     1025\n",
       "5     1012\n",
       "3     1009\n",
       "4      989\n",
       "9      984\n",
       "6      967\n",
       "10     490\n",
       "0      413\n",
       "Name: tenure, dtype: int64"
      ]
     },
     "execution_count": 9,
     "metadata": {},
     "output_type": "execute_result"
    }
   ],
   "source": [
    "# Number of customers in each year 0 - 10\n",
    "CustomerChurn['tenure'].value_counts()"
   ]
  },
  {
   "cell_type": "code",
   "execution_count": 10,
   "id": "e9a82379",
   "metadata": {},
   "outputs": [
    {
     "data": {
      "text/html": [
       "<div>\n",
       "<style scoped>\n",
       "    .dataframe tbody tr th:only-of-type {\n",
       "        vertical-align: middle;\n",
       "    }\n",
       "\n",
       "    .dataframe tbody tr th {\n",
       "        vertical-align: top;\n",
       "    }\n",
       "\n",
       "    .dataframe thead tr th {\n",
       "        text-align: left;\n",
       "    }\n",
       "\n",
       "    .dataframe thead tr:last-of-type th {\n",
       "        text-align: right;\n",
       "    }\n",
       "</style>\n",
       "<table border=\"1\" class=\"dataframe\">\n",
       "  <thead>\n",
       "    <tr>\n",
       "      <th></th>\n",
       "      <th colspan=\"8\" halign=\"left\">tenure</th>\n",
       "    </tr>\n",
       "    <tr>\n",
       "      <th></th>\n",
       "      <th>count</th>\n",
       "      <th>mean</th>\n",
       "      <th>std</th>\n",
       "      <th>min</th>\n",
       "      <th>25%</th>\n",
       "      <th>50%</th>\n",
       "      <th>75%</th>\n",
       "      <th>max</th>\n",
       "    </tr>\n",
       "    <tr>\n",
       "      <th>churn</th>\n",
       "      <th></th>\n",
       "      <th></th>\n",
       "      <th></th>\n",
       "      <th></th>\n",
       "      <th></th>\n",
       "      <th></th>\n",
       "      <th></th>\n",
       "      <th></th>\n",
       "    </tr>\n",
       "  </thead>\n",
       "  <tbody>\n",
       "    <tr>\n",
       "      <th>0</th>\n",
       "      <td>7963.0</td>\n",
       "      <td>5.033279</td>\n",
       "      <td>2.880658</td>\n",
       "      <td>0.0</td>\n",
       "      <td>3.0</td>\n",
       "      <td>5.0</td>\n",
       "      <td>7.0</td>\n",
       "      <td>10.0</td>\n",
       "    </tr>\n",
       "    <tr>\n",
       "      <th>1</th>\n",
       "      <td>2037.0</td>\n",
       "      <td>4.932744</td>\n",
       "      <td>2.936106</td>\n",
       "      <td>0.0</td>\n",
       "      <td>2.0</td>\n",
       "      <td>5.0</td>\n",
       "      <td>8.0</td>\n",
       "      <td>10.0</td>\n",
       "    </tr>\n",
       "  </tbody>\n",
       "</table>\n",
       "</div>"
      ],
      "text/plain": [
       "       tenure                                              \n",
       "        count      mean       std  min  25%  50%  75%   max\n",
       "churn                                                      \n",
       "0      7963.0  5.033279  2.880658  0.0  3.0  5.0  7.0  10.0\n",
       "1      2037.0  4.932744  2.936106  0.0  2.0  5.0  8.0  10.0"
      ]
     },
     "execution_count": 10,
     "metadata": {},
     "output_type": "execute_result"
    }
   ],
   "source": [
    "# churn by tenure\n",
    "CustomerChurn.groupby('churn')[['tenure']].describe()\n"
   ]
  },
  {
   "cell_type": "code",
   "execution_count": 11,
   "id": "ebeb9c35",
   "metadata": {},
   "outputs": [
    {
     "name": "stdout",
     "output_type": "stream",
     "text": [
      "Male      0.5457\n",
      "Female    0.4543\n",
      "Name: gender, dtype: float64\n"
     ]
    }
   ],
   "source": [
    "cc= CustomerChurn['gender'].value_counts(normalize= True)\n",
    "print(cc)"
   ]
  },
  {
   "cell_type": "code",
   "execution_count": 12,
   "id": "667419fb",
   "metadata": {},
   "outputs": [
    {
     "name": "stdout",
     "output_type": "stream",
     "text": [
      "<class 'pandas.core.frame.DataFrame'>\n",
      "Int64Index: 10000 entries, 15634602 to 15628319\n",
      "Data columns (total 11 columns):\n",
      " #   Column            Non-Null Count  Dtype  \n",
      "---  ------            --------------  -----  \n",
      " 0   credit_score      10000 non-null  int64  \n",
      " 1   country           10000 non-null  object \n",
      " 2   gender            10000 non-null  object \n",
      " 3   age               10000 non-null  int64  \n",
      " 4   tenure            10000 non-null  int64  \n",
      " 5   balance           10000 non-null  float64\n",
      " 6   products_number   10000 non-null  int64  \n",
      " 7   credit_card       10000 non-null  int64  \n",
      " 8   active_member     10000 non-null  int64  \n",
      " 9   estimated_salary  10000 non-null  float64\n",
      " 10  churn             10000 non-null  int64  \n",
      "dtypes: float64(2), int64(7), object(2)\n",
      "memory usage: 937.5+ KB\n"
     ]
    }
   ],
   "source": [
    "# comprehensive info on our data\n",
    "CustomerChurn.info()\n"
   ]
  },
  {
   "cell_type": "code",
   "execution_count": 13,
   "id": "7ef24044",
   "metadata": {},
   "outputs": [
    {
     "data": {
      "text/plain": [
       "France     5014\n",
       "Germany    2509\n",
       "Spain      2477\n",
       "Name: country, dtype: int64"
      ]
     },
     "execution_count": 13,
     "metadata": {},
     "output_type": "execute_result"
    }
   ],
   "source": [
    "CustomerChurn.country.value_counts()"
   ]
  },
  {
   "cell_type": "code",
   "execution_count": 14,
   "id": "0092bfa8",
   "metadata": {},
   "outputs": [
    {
     "data": {
      "text/html": [
       "<div>\n",
       "<style scoped>\n",
       "    .dataframe tbody tr th:only-of-type {\n",
       "        vertical-align: middle;\n",
       "    }\n",
       "\n",
       "    .dataframe tbody tr th {\n",
       "        vertical-align: top;\n",
       "    }\n",
       "\n",
       "    .dataframe thead th {\n",
       "        text-align: right;\n",
       "    }\n",
       "</style>\n",
       "<table border=\"1\" class=\"dataframe\">\n",
       "  <thead>\n",
       "    <tr style=\"text-align: right;\">\n",
       "      <th></th>\n",
       "      <th>credit_score</th>\n",
       "      <th>age</th>\n",
       "      <th>tenure</th>\n",
       "      <th>balance</th>\n",
       "      <th>products_number</th>\n",
       "      <th>credit_card</th>\n",
       "      <th>active_member</th>\n",
       "      <th>estimated_salary</th>\n",
       "      <th>churn</th>\n",
       "    </tr>\n",
       "  </thead>\n",
       "  <tbody>\n",
       "    <tr>\n",
       "      <th>count</th>\n",
       "      <td>10000.000000</td>\n",
       "      <td>10000.000000</td>\n",
       "      <td>10000.000000</td>\n",
       "      <td>10000.000000</td>\n",
       "      <td>10000.000000</td>\n",
       "      <td>10000.00000</td>\n",
       "      <td>10000.000000</td>\n",
       "      <td>10000.000000</td>\n",
       "      <td>10000.000000</td>\n",
       "    </tr>\n",
       "    <tr>\n",
       "      <th>mean</th>\n",
       "      <td>650.528800</td>\n",
       "      <td>38.921800</td>\n",
       "      <td>5.012800</td>\n",
       "      <td>76485.889288</td>\n",
       "      <td>1.530200</td>\n",
       "      <td>0.70550</td>\n",
       "      <td>0.515100</td>\n",
       "      <td>100090.239881</td>\n",
       "      <td>0.203700</td>\n",
       "    </tr>\n",
       "    <tr>\n",
       "      <th>std</th>\n",
       "      <td>96.653299</td>\n",
       "      <td>10.487806</td>\n",
       "      <td>2.892174</td>\n",
       "      <td>62397.405202</td>\n",
       "      <td>0.581654</td>\n",
       "      <td>0.45584</td>\n",
       "      <td>0.499797</td>\n",
       "      <td>57510.492818</td>\n",
       "      <td>0.402769</td>\n",
       "    </tr>\n",
       "    <tr>\n",
       "      <th>min</th>\n",
       "      <td>350.000000</td>\n",
       "      <td>18.000000</td>\n",
       "      <td>0.000000</td>\n",
       "      <td>0.000000</td>\n",
       "      <td>1.000000</td>\n",
       "      <td>0.00000</td>\n",
       "      <td>0.000000</td>\n",
       "      <td>11.580000</td>\n",
       "      <td>0.000000</td>\n",
       "    </tr>\n",
       "    <tr>\n",
       "      <th>25%</th>\n",
       "      <td>584.000000</td>\n",
       "      <td>32.000000</td>\n",
       "      <td>3.000000</td>\n",
       "      <td>0.000000</td>\n",
       "      <td>1.000000</td>\n",
       "      <td>0.00000</td>\n",
       "      <td>0.000000</td>\n",
       "      <td>51002.110000</td>\n",
       "      <td>0.000000</td>\n",
       "    </tr>\n",
       "    <tr>\n",
       "      <th>50%</th>\n",
       "      <td>652.000000</td>\n",
       "      <td>37.000000</td>\n",
       "      <td>5.000000</td>\n",
       "      <td>97198.540000</td>\n",
       "      <td>1.000000</td>\n",
       "      <td>1.00000</td>\n",
       "      <td>1.000000</td>\n",
       "      <td>100193.915000</td>\n",
       "      <td>0.000000</td>\n",
       "    </tr>\n",
       "    <tr>\n",
       "      <th>75%</th>\n",
       "      <td>718.000000</td>\n",
       "      <td>44.000000</td>\n",
       "      <td>7.000000</td>\n",
       "      <td>127644.240000</td>\n",
       "      <td>2.000000</td>\n",
       "      <td>1.00000</td>\n",
       "      <td>1.000000</td>\n",
       "      <td>149388.247500</td>\n",
       "      <td>0.000000</td>\n",
       "    </tr>\n",
       "    <tr>\n",
       "      <th>max</th>\n",
       "      <td>850.000000</td>\n",
       "      <td>92.000000</td>\n",
       "      <td>10.000000</td>\n",
       "      <td>250898.090000</td>\n",
       "      <td>4.000000</td>\n",
       "      <td>1.00000</td>\n",
       "      <td>1.000000</td>\n",
       "      <td>199992.480000</td>\n",
       "      <td>1.000000</td>\n",
       "    </tr>\n",
       "  </tbody>\n",
       "</table>\n",
       "</div>"
      ],
      "text/plain": [
       "       credit_score           age        tenure        balance  \\\n",
       "count  10000.000000  10000.000000  10000.000000   10000.000000   \n",
       "mean     650.528800     38.921800      5.012800   76485.889288   \n",
       "std       96.653299     10.487806      2.892174   62397.405202   \n",
       "min      350.000000     18.000000      0.000000       0.000000   \n",
       "25%      584.000000     32.000000      3.000000       0.000000   \n",
       "50%      652.000000     37.000000      5.000000   97198.540000   \n",
       "75%      718.000000     44.000000      7.000000  127644.240000   \n",
       "max      850.000000     92.000000     10.000000  250898.090000   \n",
       "\n",
       "       products_number  credit_card  active_member  estimated_salary  \\\n",
       "count     10000.000000  10000.00000   10000.000000      10000.000000   \n",
       "mean          1.530200      0.70550       0.515100     100090.239881   \n",
       "std           0.581654      0.45584       0.499797      57510.492818   \n",
       "min           1.000000      0.00000       0.000000         11.580000   \n",
       "25%           1.000000      0.00000       0.000000      51002.110000   \n",
       "50%           1.000000      1.00000       1.000000     100193.915000   \n",
       "75%           2.000000      1.00000       1.000000     149388.247500   \n",
       "max           4.000000      1.00000       1.000000     199992.480000   \n",
       "\n",
       "              churn  \n",
       "count  10000.000000  \n",
       "mean       0.203700  \n",
       "std        0.402769  \n",
       "min        0.000000  \n",
       "25%        0.000000  \n",
       "50%        0.000000  \n",
       "75%        0.000000  \n",
       "max        1.000000  "
      ]
     },
     "execution_count": 14,
     "metadata": {},
     "output_type": "execute_result"
    }
   ],
   "source": [
    "CustomerChurn.describe()"
   ]
  },
  {
   "cell_type": "markdown",
   "id": "14327ac3",
   "metadata": {},
   "source": [
    "# Cleaning the data"
   ]
  },
  {
   "cell_type": "code",
   "execution_count": 15,
   "id": "b7932d16",
   "metadata": {},
   "outputs": [
    {
     "data": {
      "text/plain": [
       "0    2037\n",
       "1    2037\n",
       "Name: churn, dtype: int64"
      ]
     },
     "execution_count": 15,
     "metadata": {},
     "output_type": "execute_result"
    }
   ],
   "source": [
    "CustomerChurn_bal=CustomerChurn.groupby('churn',group_keys=False).apply(lambda x: x.sample(2037,random_state=0))\n",
    "CustomerChurn_bal.churn.value_counts()"
   ]
  },
  {
   "cell_type": "code",
   "execution_count": 16,
   "id": "0abecabe",
   "metadata": {
    "scrolled": true
   },
   "outputs": [
    {
     "data": {
      "text/html": [
       "<div>\n",
       "<style scoped>\n",
       "    .dataframe tbody tr th:only-of-type {\n",
       "        vertical-align: middle;\n",
       "    }\n",
       "\n",
       "    .dataframe tbody tr th {\n",
       "        vertical-align: top;\n",
       "    }\n",
       "\n",
       "    .dataframe thead th {\n",
       "        text-align: right;\n",
       "    }\n",
       "</style>\n",
       "<table border=\"1\" class=\"dataframe\">\n",
       "  <thead>\n",
       "    <tr style=\"text-align: right;\">\n",
       "      <th></th>\n",
       "      <th>credit_score</th>\n",
       "      <th>country</th>\n",
       "      <th>gender</th>\n",
       "      <th>age</th>\n",
       "      <th>tenure</th>\n",
       "      <th>balance</th>\n",
       "      <th>products_number</th>\n",
       "      <th>credit_card</th>\n",
       "      <th>active_member</th>\n",
       "      <th>estimated_salary</th>\n",
       "    </tr>\n",
       "    <tr>\n",
       "      <th>customer_id</th>\n",
       "      <th></th>\n",
       "      <th></th>\n",
       "      <th></th>\n",
       "      <th></th>\n",
       "      <th></th>\n",
       "      <th></th>\n",
       "      <th></th>\n",
       "      <th></th>\n",
       "      <th></th>\n",
       "      <th></th>\n",
       "    </tr>\n",
       "  </thead>\n",
       "  <tbody>\n",
       "    <tr>\n",
       "      <th>15785975</th>\n",
       "      <td>525</td>\n",
       "      <td>Spain</td>\n",
       "      <td>Female</td>\n",
       "      <td>60</td>\n",
       "      <td>7</td>\n",
       "      <td>0.00</td>\n",
       "      <td>2</td>\n",
       "      <td>0</td>\n",
       "      <td>1</td>\n",
       "      <td>168034.90</td>\n",
       "    </tr>\n",
       "    <tr>\n",
       "      <th>15614520</th>\n",
       "      <td>682</td>\n",
       "      <td>France</td>\n",
       "      <td>Female</td>\n",
       "      <td>37</td>\n",
       "      <td>8</td>\n",
       "      <td>148580.12</td>\n",
       "      <td>1</td>\n",
       "      <td>1</td>\n",
       "      <td>0</td>\n",
       "      <td>35179.18</td>\n",
       "    </tr>\n",
       "    <tr>\n",
       "      <th>15812470</th>\n",
       "      <td>719</td>\n",
       "      <td>France</td>\n",
       "      <td>Male</td>\n",
       "      <td>61</td>\n",
       "      <td>5</td>\n",
       "      <td>0.00</td>\n",
       "      <td>2</td>\n",
       "      <td>0</td>\n",
       "      <td>1</td>\n",
       "      <td>29132.43</td>\n",
       "    </tr>\n",
       "  </tbody>\n",
       "</table>\n",
       "</div>"
      ],
      "text/plain": [
       "             credit_score country  gender  age  tenure    balance  \\\n",
       "customer_id                                                         \n",
       "15785975              525   Spain  Female   60       7       0.00   \n",
       "15614520              682  France  Female   37       8  148580.12   \n",
       "15812470              719  France    Male   61       5       0.00   \n",
       "\n",
       "             products_number  credit_card  active_member  estimated_salary  \n",
       "customer_id                                                                 \n",
       "15785975                   2            0              1         168034.90  \n",
       "15614520                   1            1              0          35179.18  \n",
       "15812470                   2            0              1          29132.43  "
      ]
     },
     "metadata": {},
     "output_type": "display_data"
    },
    {
     "data": {
      "text/plain": [
       "customer_id\n",
       "15785975    0\n",
       "15614520    0\n",
       "15812470    0\n",
       "Name: churn, dtype: int64"
      ]
     },
     "metadata": {},
     "output_type": "display_data"
    }
   ],
   "source": [
    "# create features and sets\n",
    "x_CustomerChurn_bal, y_CustomerChurn_bal= CustomerChurn_bal.iloc[:, :-1], CustomerChurn_bal['churn']\n",
    "\n",
    "# check my work\n",
    "display(x_CustomerChurn_bal.head(3))\n",
    "display(y_CustomerChurn_bal.head(3))"
   ]
  },
  {
   "cell_type": "code",
   "execution_count": 17,
   "id": "128f90fb",
   "metadata": {},
   "outputs": [
    {
     "data": {
      "text/html": [
       "<div>\n",
       "<style scoped>\n",
       "    .dataframe tbody tr th:only-of-type {\n",
       "        vertical-align: middle;\n",
       "    }\n",
       "\n",
       "    .dataframe tbody tr th {\n",
       "        vertical-align: top;\n",
       "    }\n",
       "\n",
       "    .dataframe thead th {\n",
       "        text-align: right;\n",
       "    }\n",
       "</style>\n",
       "<table border=\"1\" class=\"dataframe\">\n",
       "  <thead>\n",
       "    <tr style=\"text-align: right;\">\n",
       "      <th></th>\n",
       "      <th>credit_score</th>\n",
       "      <th>age</th>\n",
       "      <th>tenure</th>\n",
       "      <th>balance</th>\n",
       "      <th>products_number</th>\n",
       "      <th>credit_card</th>\n",
       "      <th>active_member</th>\n",
       "      <th>estimated_salary</th>\n",
       "      <th>country_France</th>\n",
       "      <th>country_Germany</th>\n",
       "      <th>country_Spain</th>\n",
       "      <th>gender_Female</th>\n",
       "      <th>gender_Male</th>\n",
       "    </tr>\n",
       "    <tr>\n",
       "      <th>customer_id</th>\n",
       "      <th></th>\n",
       "      <th></th>\n",
       "      <th></th>\n",
       "      <th></th>\n",
       "      <th></th>\n",
       "      <th></th>\n",
       "      <th></th>\n",
       "      <th></th>\n",
       "      <th></th>\n",
       "      <th></th>\n",
       "      <th></th>\n",
       "      <th></th>\n",
       "      <th></th>\n",
       "    </tr>\n",
       "  </thead>\n",
       "  <tbody>\n",
       "    <tr>\n",
       "      <th>15785975</th>\n",
       "      <td>525</td>\n",
       "      <td>60</td>\n",
       "      <td>7</td>\n",
       "      <td>0.00</td>\n",
       "      <td>2</td>\n",
       "      <td>0</td>\n",
       "      <td>1</td>\n",
       "      <td>168034.90</td>\n",
       "      <td>0</td>\n",
       "      <td>0</td>\n",
       "      <td>1</td>\n",
       "      <td>1</td>\n",
       "      <td>0</td>\n",
       "    </tr>\n",
       "    <tr>\n",
       "      <th>15614520</th>\n",
       "      <td>682</td>\n",
       "      <td>37</td>\n",
       "      <td>8</td>\n",
       "      <td>148580.12</td>\n",
       "      <td>1</td>\n",
       "      <td>1</td>\n",
       "      <td>0</td>\n",
       "      <td>35179.18</td>\n",
       "      <td>1</td>\n",
       "      <td>0</td>\n",
       "      <td>0</td>\n",
       "      <td>1</td>\n",
       "      <td>0</td>\n",
       "    </tr>\n",
       "    <tr>\n",
       "      <th>15812470</th>\n",
       "      <td>719</td>\n",
       "      <td>61</td>\n",
       "      <td>5</td>\n",
       "      <td>0.00</td>\n",
       "      <td>2</td>\n",
       "      <td>0</td>\n",
       "      <td>1</td>\n",
       "      <td>29132.43</td>\n",
       "      <td>1</td>\n",
       "      <td>0</td>\n",
       "      <td>0</td>\n",
       "      <td>0</td>\n",
       "      <td>1</td>\n",
       "    </tr>\n",
       "    <tr>\n",
       "      <th>15676156</th>\n",
       "      <td>528</td>\n",
       "      <td>32</td>\n",
       "      <td>4</td>\n",
       "      <td>85615.66</td>\n",
       "      <td>2</td>\n",
       "      <td>1</td>\n",
       "      <td>0</td>\n",
       "      <td>156192.43</td>\n",
       "      <td>1</td>\n",
       "      <td>0</td>\n",
       "      <td>0</td>\n",
       "      <td>1</td>\n",
       "      <td>0</td>\n",
       "    </tr>\n",
       "    <tr>\n",
       "      <th>15576256</th>\n",
       "      <td>582</td>\n",
       "      <td>39</td>\n",
       "      <td>5</td>\n",
       "      <td>0.00</td>\n",
       "      <td>2</td>\n",
       "      <td>1</td>\n",
       "      <td>1</td>\n",
       "      <td>129892.93</td>\n",
       "      <td>1</td>\n",
       "      <td>0</td>\n",
       "      <td>0</td>\n",
       "      <td>0</td>\n",
       "      <td>1</td>\n",
       "    </tr>\n",
       "  </tbody>\n",
       "</table>\n",
       "</div>"
      ],
      "text/plain": [
       "             credit_score  age  tenure    balance  products_number  \\\n",
       "customer_id                                                          \n",
       "15785975              525   60       7       0.00                2   \n",
       "15614520              682   37       8  148580.12                1   \n",
       "15812470              719   61       5       0.00                2   \n",
       "15676156              528   32       4   85615.66                2   \n",
       "15576256              582   39       5       0.00                2   \n",
       "\n",
       "             credit_card  active_member  estimated_salary  country_France  \\\n",
       "customer_id                                                                 \n",
       "15785975               0              1         168034.90               0   \n",
       "15614520               1              0          35179.18               1   \n",
       "15812470               0              1          29132.43               1   \n",
       "15676156               1              0         156192.43               1   \n",
       "15576256               1              1         129892.93               1   \n",
       "\n",
       "             country_Germany  country_Spain  gender_Female  gender_Male  \n",
       "customer_id                                                              \n",
       "15785975                   0              1              1            0  \n",
       "15614520                   0              0              1            0  \n",
       "15812470                   0              0              0            1  \n",
       "15676156                   0              0              1            0  \n",
       "15576256                   0              0              0            1  "
      ]
     },
     "execution_count": 17,
     "metadata": {},
     "output_type": "execute_result"
    }
   ],
   "source": [
    "x_dummies=pd.get_dummies(x_CustomerChurn_bal)\n",
    "x_dummies.head()"
   ]
  },
  {
   "cell_type": "markdown",
   "id": "1241db57",
   "metadata": {},
   "source": [
    "# Understanding features in new balanced data"
   ]
  },
  {
   "cell_type": "code",
   "execution_count": 18,
   "id": "87d032a3",
   "metadata": {
    "scrolled": true
   },
   "outputs": [
    {
     "data": {
      "text/html": [
       "<div>\n",
       "<style scoped>\n",
       "    .dataframe tbody tr th:only-of-type {\n",
       "        vertical-align: middle;\n",
       "    }\n",
       "\n",
       "    .dataframe tbody tr th {\n",
       "        vertical-align: top;\n",
       "    }\n",
       "\n",
       "    .dataframe thead th {\n",
       "        text-align: right;\n",
       "    }\n",
       "</style>\n",
       "<table border=\"1\" class=\"dataframe\">\n",
       "  <thead>\n",
       "    <tr style=\"text-align: right;\">\n",
       "      <th></th>\n",
       "      <th>credit_score</th>\n",
       "      <th>age</th>\n",
       "      <th>tenure</th>\n",
       "      <th>balance</th>\n",
       "      <th>products_number</th>\n",
       "      <th>credit_card</th>\n",
       "      <th>active_member</th>\n",
       "      <th>estimated_salary</th>\n",
       "      <th>country_France</th>\n",
       "      <th>country_Germany</th>\n",
       "      <th>country_Spain</th>\n",
       "      <th>gender_Female</th>\n",
       "      <th>gender_Male</th>\n",
       "    </tr>\n",
       "  </thead>\n",
       "  <tbody>\n",
       "    <tr>\n",
       "      <th>count</th>\n",
       "      <td>4074.00000</td>\n",
       "      <td>4074.000000</td>\n",
       "      <td>4074.000000</td>\n",
       "      <td>4074.000000</td>\n",
       "      <td>4074.000000</td>\n",
       "      <td>4074.000000</td>\n",
       "      <td>4074.000000</td>\n",
       "      <td>4074.000000</td>\n",
       "      <td>4074.000000</td>\n",
       "      <td>4074.000000</td>\n",
       "      <td>4074.000000</td>\n",
       "      <td>4074.000000</td>\n",
       "      <td>4074.000000</td>\n",
       "    </tr>\n",
       "    <tr>\n",
       "      <th>mean</th>\n",
       "      <td>647.31296</td>\n",
       "      <td>41.080756</td>\n",
       "      <td>4.958517</td>\n",
       "      <td>81591.350854</td>\n",
       "      <td>1.503191</td>\n",
       "      <td>0.699558</td>\n",
       "      <td>0.460972</td>\n",
       "      <td>100855.176188</td>\n",
       "      <td>0.465636</td>\n",
       "      <td>0.302651</td>\n",
       "      <td>0.231713</td>\n",
       "      <td>0.491900</td>\n",
       "      <td>0.508100</td>\n",
       "    </tr>\n",
       "    <tr>\n",
       "      <th>std</th>\n",
       "      <td>97.87923</td>\n",
       "      <td>10.640366</td>\n",
       "      <td>2.918148</td>\n",
       "      <td>61168.069384</td>\n",
       "      <td>0.672576</td>\n",
       "      <td>0.458506</td>\n",
       "      <td>0.498536</td>\n",
       "      <td>57176.566787</td>\n",
       "      <td>0.498879</td>\n",
       "      <td>0.459462</td>\n",
       "      <td>0.421979</td>\n",
       "      <td>0.499996</td>\n",
       "      <td>0.499996</td>\n",
       "    </tr>\n",
       "    <tr>\n",
       "      <th>min</th>\n",
       "      <td>350.00000</td>\n",
       "      <td>18.000000</td>\n",
       "      <td>0.000000</td>\n",
       "      <td>0.000000</td>\n",
       "      <td>1.000000</td>\n",
       "      <td>0.000000</td>\n",
       "      <td>0.000000</td>\n",
       "      <td>11.580000</td>\n",
       "      <td>0.000000</td>\n",
       "      <td>0.000000</td>\n",
       "      <td>0.000000</td>\n",
       "      <td>0.000000</td>\n",
       "      <td>0.000000</td>\n",
       "    </tr>\n",
       "    <tr>\n",
       "      <th>25%</th>\n",
       "      <td>580.00000</td>\n",
       "      <td>33.000000</td>\n",
       "      <td>2.000000</td>\n",
       "      <td>0.000000</td>\n",
       "      <td>1.000000</td>\n",
       "      <td>0.000000</td>\n",
       "      <td>0.000000</td>\n",
       "      <td>52697.880000</td>\n",
       "      <td>0.000000</td>\n",
       "      <td>0.000000</td>\n",
       "      <td>0.000000</td>\n",
       "      <td>0.000000</td>\n",
       "      <td>0.000000</td>\n",
       "    </tr>\n",
       "    <tr>\n",
       "      <th>50%</th>\n",
       "      <td>648.00000</td>\n",
       "      <td>40.000000</td>\n",
       "      <td>5.000000</td>\n",
       "      <td>102982.175000</td>\n",
       "      <td>1.000000</td>\n",
       "      <td>1.000000</td>\n",
       "      <td>0.000000</td>\n",
       "      <td>100825.740000</td>\n",
       "      <td>0.000000</td>\n",
       "      <td>0.000000</td>\n",
       "      <td>0.000000</td>\n",
       "      <td>0.000000</td>\n",
       "      <td>1.000000</td>\n",
       "    </tr>\n",
       "    <tr>\n",
       "      <th>75%</th>\n",
       "      <td>715.00000</td>\n",
       "      <td>48.000000</td>\n",
       "      <td>7.000000</td>\n",
       "      <td>128824.100000</td>\n",
       "      <td>2.000000</td>\n",
       "      <td>1.000000</td>\n",
       "      <td>1.000000</td>\n",
       "      <td>149907.407500</td>\n",
       "      <td>1.000000</td>\n",
       "      <td>1.000000</td>\n",
       "      <td>0.000000</td>\n",
       "      <td>1.000000</td>\n",
       "      <td>1.000000</td>\n",
       "    </tr>\n",
       "    <tr>\n",
       "      <th>max</th>\n",
       "      <td>850.00000</td>\n",
       "      <td>92.000000</td>\n",
       "      <td>10.000000</td>\n",
       "      <td>250898.090000</td>\n",
       "      <td>4.000000</td>\n",
       "      <td>1.000000</td>\n",
       "      <td>1.000000</td>\n",
       "      <td>199909.320000</td>\n",
       "      <td>1.000000</td>\n",
       "      <td>1.000000</td>\n",
       "      <td>1.000000</td>\n",
       "      <td>1.000000</td>\n",
       "      <td>1.000000</td>\n",
       "    </tr>\n",
       "  </tbody>\n",
       "</table>\n",
       "</div>"
      ],
      "text/plain": [
       "       credit_score          age       tenure        balance  products_number  \\\n",
       "count    4074.00000  4074.000000  4074.000000    4074.000000      4074.000000   \n",
       "mean      647.31296    41.080756     4.958517   81591.350854         1.503191   \n",
       "std        97.87923    10.640366     2.918148   61168.069384         0.672576   \n",
       "min       350.00000    18.000000     0.000000       0.000000         1.000000   \n",
       "25%       580.00000    33.000000     2.000000       0.000000         1.000000   \n",
       "50%       648.00000    40.000000     5.000000  102982.175000         1.000000   \n",
       "75%       715.00000    48.000000     7.000000  128824.100000         2.000000   \n",
       "max       850.00000    92.000000    10.000000  250898.090000         4.000000   \n",
       "\n",
       "       credit_card  active_member  estimated_salary  country_France  \\\n",
       "count  4074.000000    4074.000000       4074.000000     4074.000000   \n",
       "mean      0.699558       0.460972     100855.176188        0.465636   \n",
       "std       0.458506       0.498536      57176.566787        0.498879   \n",
       "min       0.000000       0.000000         11.580000        0.000000   \n",
       "25%       0.000000       0.000000      52697.880000        0.000000   \n",
       "50%       1.000000       0.000000     100825.740000        0.000000   \n",
       "75%       1.000000       1.000000     149907.407500        1.000000   \n",
       "max       1.000000       1.000000     199909.320000        1.000000   \n",
       "\n",
       "       country_Germany  country_Spain  gender_Female  gender_Male  \n",
       "count      4074.000000    4074.000000    4074.000000  4074.000000  \n",
       "mean          0.302651       0.231713       0.491900     0.508100  \n",
       "std           0.459462       0.421979       0.499996     0.499996  \n",
       "min           0.000000       0.000000       0.000000     0.000000  \n",
       "25%           0.000000       0.000000       0.000000     0.000000  \n",
       "50%           0.000000       0.000000       0.000000     1.000000  \n",
       "75%           1.000000       0.000000       1.000000     1.000000  \n",
       "max           1.000000       1.000000       1.000000     1.000000  "
      ]
     },
     "execution_count": 18,
     "metadata": {},
     "output_type": "execute_result"
    }
   ],
   "source": [
    "x_dummies.describe()\n",
    "# see what changes were made"
   ]
  },
  {
   "cell_type": "code",
   "execution_count": 19,
   "id": "6f193685",
   "metadata": {},
   "outputs": [
    {
     "name": "stdout",
     "output_type": "stream",
     "text": [
      "<class 'pandas.core.frame.DataFrame'>\n",
      "Int64Index: 4074 entries, 15785975 to 15717560\n",
      "Data columns (total 13 columns):\n",
      " #   Column            Non-Null Count  Dtype  \n",
      "---  ------            --------------  -----  \n",
      " 0   credit_score      4074 non-null   int64  \n",
      " 1   age               4074 non-null   int64  \n",
      " 2   tenure            4074 non-null   int64  \n",
      " 3   balance           4074 non-null   float64\n",
      " 4   products_number   4074 non-null   int64  \n",
      " 5   credit_card       4074 non-null   int64  \n",
      " 6   active_member     4074 non-null   int64  \n",
      " 7   estimated_salary  4074 non-null   float64\n",
      " 8   country_France    4074 non-null   uint8  \n",
      " 9   country_Germany   4074 non-null   uint8  \n",
      " 10  country_Spain     4074 non-null   uint8  \n",
      " 11  gender_Female     4074 non-null   uint8  \n",
      " 12  gender_Male       4074 non-null   uint8  \n",
      "dtypes: float64(2), int64(6), uint8(5)\n",
      "memory usage: 306.3 KB\n"
     ]
    }
   ],
   "source": [
    "x_dummies.info()\n"
   ]
  },
  {
   "cell_type": "markdown",
   "id": "2abbba9a",
   "metadata": {},
   "source": [
    "# Developing machine learning models"
   ]
  },
  {
   "cell_type": "markdown",
   "id": "766f8670",
   "metadata": {},
   "source": [
    "## KNeighborsClassifier"
   ]
  },
  {
   "cell_type": "code",
   "execution_count": 20,
   "id": "dcd5388a",
   "metadata": {},
   "outputs": [],
   "source": [
    "test_scores, train_scores= validation_curve(KNeighborsClassifier(n_neighbors= 5),\n",
    "                                             x_dummies, y_CustomerChurn_bal,\n",
    "                                            param_name= 'n_neighbors',\n",
    "                                            param_range= [4, 5, 6, 9, 11, 13],\n",
    "                                            cv= 4)"
   ]
  },
  {
   "cell_type": "code",
   "execution_count": 21,
   "id": "19bedbf9",
   "metadata": {},
   "outputs": [
    {
     "data": {
      "text/plain": [
       "array([0.5309, 0.5452, 0.5324, 0.5211, 0.5184, 0.5221])"
      ]
     },
     "execution_count": 21,
     "metadata": {},
     "output_type": "execute_result"
    }
   ],
   "source": [
    "train_scores.mean(axis= 1).round(4)"
   ]
  },
  {
   "cell_type": "code",
   "execution_count": 22,
   "id": "024b6e80",
   "metadata": {},
   "outputs": [
    {
     "data": {
      "text/plain": [
       "array([0.705 , 0.7072, 0.6753, 0.6486, 0.6364, 0.6252])"
      ]
     },
     "execution_count": 22,
     "metadata": {},
     "output_type": "execute_result"
    }
   ],
   "source": [
    "test_scores.mean(axis= 1).round(4)\n",
    "# .7072 is the highest, which means that 5 nearest neighbors is the best value"
   ]
  },
  {
   "cell_type": "code",
   "execution_count": 23,
   "id": "aa390b3c",
   "metadata": {},
   "outputs": [],
   "source": [
    "# split to train and test \n",
    "x_train, x_test, y_train, y_test= train_test_split(x_dummies, y_CustomerChurn_bal, random_state= 0)"
   ]
  },
  {
   "cell_type": "code",
   "execution_count": 24,
   "id": "048af5a3",
   "metadata": {},
   "outputs": [],
   "source": [
    "# define the model\n",
    "knn_cls_CustomerChurn1= KNeighborsClassifier(n_neighbors= 5)"
   ]
  },
  {
   "cell_type": "code",
   "execution_count": 25,
   "id": "4e0216b5",
   "metadata": {},
   "outputs": [
    {
     "data": {
      "text/plain": [
       "KNeighborsClassifier()"
      ]
     },
     "execution_count": 25,
     "metadata": {},
     "output_type": "execute_result"
    }
   ],
   "source": [
    "# fit the data\n",
    "knn_cls_CustomerChurn1.fit(x_train, y_train)\n"
   ]
  },
  {
   "cell_type": "code",
   "execution_count": 26,
   "id": "a29b40dd",
   "metadata": {},
   "outputs": [
    {
     "name": "stdout",
     "output_type": "stream",
     "text": [
      "CustomerChurn1 acc on train: 71.06%\n",
      "CustomerChurn1 acc on test: 54.07%\n"
     ]
    }
   ],
   "source": [
    "# evaluate the model\n",
    "print('CustomerChurn1 acc on train: {:.2%}'.format (knn_cls_CustomerChurn1.score(x_train, y_train)))\n",
    "print('CustomerChurn1 acc on test: {:.2%}'.format (knn_cls_CustomerChurn1.score(x_test, y_test)))\n",
    "\n"
   ]
  },
  {
   "cell_type": "markdown",
   "id": "c89f2bea",
   "metadata": {},
   "source": [
    "## Decision Tree"
   ]
  },
  {
   "cell_type": "code",
   "execution_count": 27,
   "id": "5d7108d4",
   "metadata": {},
   "outputs": [],
   "source": [
    "from sklearn.model_selection import train_test_split,  validation_curve\n",
    "# make sure to import decision tree classifier\n",
    "from sklearn.tree import DecisionTreeClassifier\n"
   ]
  },
  {
   "cell_type": "code",
   "execution_count": 28,
   "id": "b8e34e62",
   "metadata": {},
   "outputs": [],
   "source": [
    "train_scores,test_scores=validation_curve(DecisionTreeClassifier(random_state=0),\n",
    "                                          x_train,y_train,param_name='max_leaf_nodes',\n",
    "                                          param_range=[1,2,3,4,5,7,8,9,10,11,12,13,14,15,16,17,18,19,20,21,22,23,24,25,26,27,28,29,30,40,41,42,43,45,46,47,48,49,50,51,52,53,54,55,56,57,58,59,60,61,62,63,63,65,66,67,68,69,70,71,72,73,74,75,76,77,78,79,80,81,82,83,84,85,86,87,88,89,90,91,92,93,94,95,96,97,98,99,100],\n",
    "                                          cv=5)\n"
   ]
  },
  {
   "cell_type": "code",
   "execution_count": 29,
   "id": "e93c8af0",
   "metadata": {},
   "outputs": [
    {
     "data": {
      "text/plain": [
       "array([  nan, 0.705, 0.729, 0.729, 0.729, 0.749, 0.751, 0.758, 0.76 ,\n",
       "       0.761, 0.766, 0.771, 0.772, 0.775, 0.778, 0.779, 0.78 , 0.781,\n",
       "       0.784, 0.786, 0.789, 0.792, 0.794, 0.797, 0.798, 0.8  , 0.801,\n",
       "       0.803, 0.804, 0.816, 0.816, 0.818, 0.819, 0.82 , 0.822, 0.823,\n",
       "       0.824, 0.825, 0.826, 0.826, 0.827, 0.829, 0.829, 0.83 , 0.831,\n",
       "       0.832, 0.834, 0.835, 0.835, 0.836, 0.837, 0.838, 0.838, 0.839,\n",
       "       0.84 , 0.842, 0.842, 0.843, 0.843, 0.844, 0.845, 0.845, 0.846,\n",
       "       0.847, 0.848, 0.849, 0.849, 0.85 , 0.851, 0.852, 0.853, 0.854,\n",
       "       0.854, 0.855, 0.856, 0.857, 0.858, 0.858, 0.859, 0.859, 0.86 ,\n",
       "       0.861, 0.862, 0.862, 0.863, 0.864, 0.865, 0.865, 0.865])"
      ]
     },
     "execution_count": 29,
     "metadata": {},
     "output_type": "execute_result"
    }
   ],
   "source": [
    "train_scores.mean(axis=1).round(3)"
   ]
  },
  {
   "cell_type": "code",
   "execution_count": 30,
   "id": "311ec03e",
   "metadata": {},
   "outputs": [
    {
     "data": {
      "text/plain": [
       "array([  nan, 0.705, 0.729, 0.729, 0.729, 0.737, 0.737, 0.739, 0.744,\n",
       "       0.742, 0.754, 0.758, 0.758, 0.764, 0.767, 0.767, 0.763, 0.765,\n",
       "       0.766, 0.762, 0.763, 0.769, 0.769, 0.77 , 0.769, 0.766, 0.765,\n",
       "       0.764, 0.765, 0.766, 0.764, 0.763, 0.764, 0.764, 0.766, 0.765,\n",
       "       0.766, 0.764, 0.763, 0.764, 0.765, 0.764, 0.765, 0.767, 0.767,\n",
       "       0.766, 0.765, 0.765, 0.765, 0.765, 0.764, 0.764, 0.764, 0.763,\n",
       "       0.764, 0.763, 0.763, 0.763, 0.762, 0.763, 0.762, 0.759, 0.758,\n",
       "       0.759, 0.757, 0.756, 0.757, 0.757, 0.757, 0.757, 0.755, 0.755,\n",
       "       0.755, 0.755, 0.755, 0.753, 0.754, 0.754, 0.753, 0.755, 0.754,\n",
       "       0.754, 0.753, 0.753, 0.752, 0.753, 0.752, 0.753, 0.752])"
      ]
     },
     "execution_count": 30,
     "metadata": {},
     "output_type": "execute_result"
    }
   ],
   "source": [
    "tt=test_scores.mean(axis=1).round(3)\n",
    "tt"
   ]
  },
  {
   "cell_type": "code",
   "execution_count": 31,
   "id": "d4865ea9",
   "metadata": {},
   "outputs": [
    {
     "data": {
      "text/plain": [
       "array([False, False, False, False, False, False, False, False, False,\n",
       "       False, False, False, False, False, False, False, False, False,\n",
       "       False, False, False, False, False, False, False, False, False,\n",
       "       False, False, False, False, False, False, False, False, False,\n",
       "       False, False, False, False, False, False, False, False, False,\n",
       "       False, False, False, False, False, False, False, False, False,\n",
       "       False, False, False, False, False, False, False, False, False,\n",
       "       False, False, False, False, False, False, False, False, False,\n",
       "       False, False, False, False, False, False, False, False, False,\n",
       "       False, False, False, False, False, False, False, False])"
      ]
     },
     "execution_count": 31,
     "metadata": {},
     "output_type": "execute_result"
    }
   ],
   "source": [
    "tt>.77"
   ]
  },
  {
   "cell_type": "code",
   "execution_count": 32,
   "id": "5cccd583",
   "metadata": {},
   "outputs": [
    {
     "data": {
      "text/plain": [
       "DecisionTreeClassifier(max_leaf_nodes=24, random_state=0)"
      ]
     },
     "execution_count": 32,
     "metadata": {},
     "output_type": "execute_result"
    }
   ],
   "source": [
    "dt=DecisionTreeClassifier(random_state=0,max_leaf_nodes=24)\n",
    "\n",
    "dt.fit(x_train,y_train)"
   ]
  },
  {
   "cell_type": "code",
   "execution_count": 33,
   "id": "0be4be26",
   "metadata": {},
   "outputs": [
    {
     "name": "stdout",
     "output_type": "stream",
     "text": [
      "dt acc on train: 79.15%\n",
      "dt acc on test: 75.37%\n"
     ]
    }
   ],
   "source": [
    "#elvaluate the performance\n",
    "print('dt acc on train: {:.2%}'.format(dt.score(x_train,y_train)))\n",
    "print('dt acc on test: {:.2%}'.format(dt.score(x_test,y_test)))\n"
   ]
  },
  {
   "cell_type": "code",
   "execution_count": 34,
   "id": "64bd5266",
   "metadata": {},
   "outputs": [
    {
     "data": {
      "text/plain": [
       "array([0.   , 0.487, 0.   , 0.108, 0.286, 0.   , 0.092, 0.   , 0.   ,\n",
       "       0.027, 0.   , 0.   , 0.   ])"
      ]
     },
     "execution_count": 34,
     "metadata": {},
     "output_type": "execute_result"
    }
   ],
   "source": [
    "dt.feature_importances_.round(3)"
   ]
  },
  {
   "cell_type": "code",
   "execution_count": 35,
   "id": "645c3c89",
   "metadata": {},
   "outputs": [
    {
     "data": {
      "text/plain": [
       "Index(['credit_score', 'age', 'tenure', 'balance', 'products_number',\n",
       "       'credit_card', 'active_member', 'estimated_salary', 'country_France',\n",
       "       'country_Germany', 'country_Spain', 'gender_Female', 'gender_Male'],\n",
       "      dtype='object')"
      ]
     },
     "execution_count": 35,
     "metadata": {},
     "output_type": "execute_result"
    }
   ],
   "source": [
    "x_dummies.columns"
   ]
  },
  {
   "cell_type": "code",
   "execution_count": 36,
   "id": "ea764559",
   "metadata": {
    "scrolled": true
   },
   "outputs": [
    {
     "data": {
      "text/html": [
       "<div>\n",
       "<style scoped>\n",
       "    .dataframe tbody tr th:only-of-type {\n",
       "        vertical-align: middle;\n",
       "    }\n",
       "\n",
       "    .dataframe tbody tr th {\n",
       "        vertical-align: top;\n",
       "    }\n",
       "\n",
       "    .dataframe thead th {\n",
       "        text-align: right;\n",
       "    }\n",
       "</style>\n",
       "<table border=\"1\" class=\"dataframe\">\n",
       "  <thead>\n",
       "    <tr style=\"text-align: right;\">\n",
       "      <th></th>\n",
       "      <th>importance</th>\n",
       "    </tr>\n",
       "  </thead>\n",
       "  <tbody>\n",
       "    <tr>\n",
       "      <th>age</th>\n",
       "      <td>0.487</td>\n",
       "    </tr>\n",
       "    <tr>\n",
       "      <th>products_number</th>\n",
       "      <td>0.286</td>\n",
       "    </tr>\n",
       "    <tr>\n",
       "      <th>balance</th>\n",
       "      <td>0.108</td>\n",
       "    </tr>\n",
       "    <tr>\n",
       "      <th>active_member</th>\n",
       "      <td>0.092</td>\n",
       "    </tr>\n",
       "    <tr>\n",
       "      <th>country_Germany</th>\n",
       "      <td>0.027</td>\n",
       "    </tr>\n",
       "    <tr>\n",
       "      <th>credit_score</th>\n",
       "      <td>0.000</td>\n",
       "    </tr>\n",
       "    <tr>\n",
       "      <th>tenure</th>\n",
       "      <td>0.000</td>\n",
       "    </tr>\n",
       "    <tr>\n",
       "      <th>credit_card</th>\n",
       "      <td>0.000</td>\n",
       "    </tr>\n",
       "    <tr>\n",
       "      <th>estimated_salary</th>\n",
       "      <td>0.000</td>\n",
       "    </tr>\n",
       "    <tr>\n",
       "      <th>country_France</th>\n",
       "      <td>0.000</td>\n",
       "    </tr>\n",
       "    <tr>\n",
       "      <th>country_Spain</th>\n",
       "      <td>0.000</td>\n",
       "    </tr>\n",
       "    <tr>\n",
       "      <th>gender_Female</th>\n",
       "      <td>0.000</td>\n",
       "    </tr>\n",
       "    <tr>\n",
       "      <th>gender_Male</th>\n",
       "      <td>0.000</td>\n",
       "    </tr>\n",
       "  </tbody>\n",
       "</table>\n",
       "</div>"
      ],
      "text/plain": [
       "                  importance\n",
       "age                    0.487\n",
       "products_number        0.286\n",
       "balance                0.108\n",
       "active_member          0.092\n",
       "country_Germany        0.027\n",
       "credit_score           0.000\n",
       "tenure                 0.000\n",
       "credit_card            0.000\n",
       "estimated_salary       0.000\n",
       "country_France         0.000\n",
       "country_Spain          0.000\n",
       "gender_Female          0.000\n",
       "gender_Male            0.000"
      ]
     },
     "execution_count": 36,
     "metadata": {},
     "output_type": "execute_result"
    }
   ],
   "source": [
    "feat_imp=pd.DataFrame(data=dt.feature_importances_.round(3),\n",
    "                     index=x_dummies.columns,# x_train?\n",
    "                     columns=['importance'])\n",
    "feat_imp.sort_values('importance',ascending=False)"
   ]
  },
  {
   "cell_type": "code",
   "execution_count": 37,
   "id": "506a534a",
   "metadata": {},
   "outputs": [
    {
     "data": {
      "image/png": "[encoded data removed]",
      "text/plain": [
       "<Figure size 432x288 with 1 Axes>"
      ]
     },
     "metadata": {
      "needs_background": "light"
     },
     "output_type": "display_data"
    }
   ],
   "source": [
    "(pd.Series(dt.feature_importances_, index= x_dummies.columns)\n",
    ".nlargest(13)\n",
    ".plot(kind= 'barh')\n",
    ".invert_yaxis())"
   ]
  },
  {
   "cell_type": "code",
   "execution_count": 38,
   "id": "771df544",
   "metadata": {},
   "outputs": [],
   "source": [
    "# export graphic \n",
    "from sklearn.tree import export_graphviz\n"
   ]
  },
  {
   "cell_type": "code",
   "execution_count": 39,
   "id": "29973843",
   "metadata": {},
   "outputs": [],
   "source": [
    "export_graphviz(dt,out_file='dt_vis.dot',\n",
    "                feature_names=x_dummies.columns,\n",
    "                class_names=dt.classes_.astype(str),\n",
    "                filled=True)"
   ]
  },
  {
   "cell_type": "markdown",
   "id": "481c6584",
   "metadata": {},
   "source": [
    "## LogisticRegression"
   ]
  },
  {
   "cell_type": "code",
   "execution_count": 40,
   "id": "36817b59",
   "metadata": {},
   "outputs": [],
   "source": [
    "from sklearn.preprocessing import MinMaxScaler\n",
    "from sklearn.linear_model import LogisticRegression"
   ]
  },
  {
   "cell_type": "code",
   "execution_count": 41,
   "id": "91ecc8b2",
   "metadata": {},
   "outputs": [
    {
     "data": {
      "text/plain": [
       "array([[0.35      , 0.56756757, 0.7       , ..., 1.        , 1.        ,\n",
       "        0.        ],\n",
       "       [0.664     , 0.25675676, 0.8       , ..., 0.        , 1.        ,\n",
       "        0.        ],\n",
       "       [0.738     , 0.58108108, 0.5       , ..., 0.        , 0.        ,\n",
       "        1.        ],\n",
       "       ...,\n",
       "       [0.484     , 0.27027027, 0.3       , ..., 1.        , 0.        ,\n",
       "        1.        ],\n",
       "       [0.836     , 0.32432432, 0.3       , ..., 1.        , 1.        ,\n",
       "        0.        ],\n",
       "       [0.46      , 0.43243243, 0.        , ..., 0.        , 0.        ,\n",
       "        1.        ]])"
      ]
     },
     "execution_count": 41,
     "metadata": {},
     "output_type": "execute_result"
    }
   ],
   "source": [
    "scaler1=MinMaxScaler()\n",
    "x_dummies_trnsf=scaler1.fit_transform(x_dummies)\n",
    "x_dummies_trnsf"
   ]
  },
  {
   "cell_type": "code",
   "execution_count": 42,
   "id": "571d886e",
   "metadata": {},
   "outputs": [],
   "source": [
    "# partition to train and test\n",
    "x_train_trs, x_test_trs, y_train_trs, y_test_trs= train_test_split(x_dummies_trnsf, y_CustomerChurn_bal, random_state= 0)"
   ]
  },
  {
   "cell_type": "code",
   "execution_count": 43,
   "id": "2667b45e",
   "metadata": {},
   "outputs": [],
   "source": [
    "C_range=[.1,.5,1,10,100,200]\n"
   ]
  },
  {
   "cell_type": "code",
   "execution_count": 44,
   "id": "9fc741da",
   "metadata": {},
   "outputs": [],
   "source": [
    "train_scores, test_scores=validation_curve(LogisticRegression(max_iter=1000),\n",
    "                                          x_train_trs,y_train_trs,\n",
    "                                          param_name='C',param_range=C_range,\n",
    "                                          cv=4)"
   ]
  },
  {
   "cell_type": "code",
   "execution_count": 45,
   "id": "7aeae5ae",
   "metadata": {},
   "outputs": [
    {
     "data": {
      "text/plain": [
       "array([0.7075, 0.7167, 0.7189, 0.7219, 0.7214, 0.7214])"
      ]
     },
     "execution_count": 45,
     "metadata": {},
     "output_type": "execute_result"
    }
   ],
   "source": [
    "train_scores.mean(axis=1).round(4)"
   ]
  },
  {
   "cell_type": "code",
   "execution_count": 46,
   "id": "2a1e949d",
   "metadata": {},
   "outputs": [
    {
     "data": {
      "text/plain": [
       "array([0.7028, 0.7116, 0.7133, 0.7152, 0.7142, 0.7142])"
      ]
     },
     "execution_count": 46,
     "metadata": {},
     "output_type": "execute_result"
    }
   ],
   "source": [
    "test_scores.mean(axis=1).round(4)"
   ]
  },
  {
   "cell_type": "code",
   "execution_count": 47,
   "id": "c19ad513",
   "metadata": {},
   "outputs": [
    {
     "data": {
      "text/plain": [
       "LogisticRegression(C=10, max_iter=1000)"
      ]
     },
     "execution_count": 47,
     "metadata": {},
     "output_type": "execute_result"
    }
   ],
   "source": [
    "log_reg=LogisticRegression(max_iter=1000,C=10)\n",
    "log_reg.fit(x_train_trs,y_train_trs)"
   ]
  },
  {
   "cell_type": "code",
   "execution_count": 48,
   "id": "7c94e52d",
   "metadata": {},
   "outputs": [
    {
     "name": "stdout",
     "output_type": "stream",
     "text": [
      "acc train: 72.01%\n",
      "acc test: 71.05%\n"
     ]
    }
   ],
   "source": [
    "print('acc train: {:.2%}'.format(log_reg.score(x_train_trs,y_train_trs)))\n",
    "print('acc test: {:.2%}'.format(log_reg.score(x_test_trs,y_test_trs)))"
   ]
  },
  {
   "cell_type": "code",
   "execution_count": 49,
   "id": "dd9fcdd3",
   "metadata": {},
   "outputs": [
    {
     "data": {
      "text/plain": [
       "Index(['credit_score', 'age', 'tenure', 'balance', 'products_number',\n",
       "       'credit_card', 'active_member', 'estimated_salary', 'country_France',\n",
       "       'country_Germany', 'country_Spain', 'gender_Female', 'gender_Male'],\n",
       "      dtype='object')"
      ]
     },
     "execution_count": 49,
     "metadata": {},
     "output_type": "execute_result"
    }
   ],
   "source": [
    "x_dummies.columns"
   ]
  },
  {
   "cell_type": "code",
   "execution_count": 50,
   "id": "358ab8f2",
   "metadata": {},
   "outputs": [
    {
     "data": {
      "text/plain": [
       "array([1], dtype=int64)"
      ]
     },
     "execution_count": 50,
     "metadata": {},
     "output_type": "execute_result"
    }
   ],
   "source": [
    "p1=[675,30,1,5000,2,0,1,32000,0,1,0,0,1]\n",
    "log_reg.predict([p1])"
   ]
  },
  {
   "cell_type": "code",
   "execution_count": 51,
   "id": "7f1d7c9d",
   "metadata": {},
   "outputs": [
    {
     "data": {
      "text/plain": [
       "array([[0., 1.]])"
      ]
     },
     "execution_count": 51,
     "metadata": {},
     "output_type": "execute_result"
    }
   ],
   "source": [
    "log_reg.predict_proba([p1]).round(4)"
   ]
  },
  {
   "cell_type": "code",
   "execution_count": 52,
   "id": "f959250d",
   "metadata": {},
   "outputs": [
    {
     "data": {
      "text/plain": [
       "array([0, 1], dtype=int64)"
      ]
     },
     "execution_count": 52,
     "metadata": {},
     "output_type": "execute_result"
    }
   ],
   "source": [
    "log_reg.classes_"
   ]
  },
  {
   "cell_type": "markdown",
   "id": "cdc2c693",
   "metadata": {},
   "source": [
    "## SVM "
   ]
  },
  {
   "cell_type": "code",
   "execution_count": 53,
   "id": "c1973ebb",
   "metadata": {},
   "outputs": [],
   "source": [
    "from sklearn.preprocessing import MinMaxScaler\n",
    "from sklearn.model_selection import validation_curve\n",
    "from sklearn.svm import LinearSVC"
   ]
  },
  {
   "cell_type": "code",
   "execution_count": 54,
   "id": "b0e65a1e",
   "metadata": {},
   "outputs": [
    {
     "data": {
      "text/plain": [
       "array([[0.35 , 0.568, 0.7  , ..., 1.   , 1.   , 0.   ],\n",
       "       [0.664, 0.257, 0.8  , ..., 0.   , 1.   , 0.   ],\n",
       "       [0.738, 0.581, 0.5  , ..., 0.   , 0.   , 1.   ],\n",
       "       ...,\n",
       "       [0.484, 0.27 , 0.3  , ..., 1.   , 0.   , 1.   ],\n",
       "       [0.836, 0.324, 0.3  , ..., 1.   , 1.   , 0.   ],\n",
       "       [0.46 , 0.432, 0.   , ..., 0.   , 0.   , 1.   ]])"
      ]
     },
     "execution_count": 54,
     "metadata": {},
     "output_type": "execute_result"
    }
   ],
   "source": [
    "# define and fit (and transform) the scaler\n",
    "scaler1= MinMaxScaler()\n",
    "x_dummies_trns= scaler1.fit_transform(x_dummies)\n",
    "x_dummies_trns.round(3)"
   ]
  },
  {
   "cell_type": "code",
   "execution_count": 55,
   "id": "018c9884",
   "metadata": {},
   "outputs": [
    {
     "data": {
      "text/plain": [
       "LinearSVC()"
      ]
     },
     "execution_count": 55,
     "metadata": {},
     "output_type": "execute_result"
    }
   ],
   "source": [
    "LinearSVC()"
   ]
  },
  {
   "cell_type": "code",
   "execution_count": 56,
   "id": "5a416a69",
   "metadata": {},
   "outputs": [],
   "source": [
    "# using validation curve\n",
    "train_scores, test_scores= validation_curve(LinearSVC(random_state= 0,max_iter=100000), \n",
    "                                           x_dummies_trnsf, y_CustomerChurn_bal,\n",
    "                                           param_name= 'C',\n",
    "                                           param_range= [.01,.05,.1,1,5,10,50], cv= 5)"
   ]
  },
  {
   "cell_type": "code",
   "execution_count": 57,
   "id": "4ef78b50",
   "metadata": {},
   "outputs": [
    {
     "data": {
      "text/plain": [
       "array([0.7026, 0.7143, 0.7161, 0.7167, 0.7169, 0.717 , 0.717 ])"
      ]
     },
     "execution_count": 57,
     "metadata": {},
     "output_type": "execute_result"
    }
   ],
   "source": [
    "train_scores.mean(axis=1).round(4)"
   ]
  },
  {
   "cell_type": "code",
   "execution_count": 58,
   "id": "2c755035",
   "metadata": {},
   "outputs": [
    {
     "data": {
      "text/plain": [
       "array([0.6988, 0.7131, 0.7135, 0.7123, 0.7116, 0.7116, 0.7116])"
      ]
     },
     "execution_count": 58,
     "metadata": {},
     "output_type": "execute_result"
    }
   ],
   "source": [
    "test_scores.mean(axis=1).round(4)\n",
    "# .7148 is the highest which means .05 is the best"
   ]
  },
  {
   "cell_type": "code",
   "execution_count": 59,
   "id": "85df14e7",
   "metadata": {},
   "outputs": [
    {
     "name": "stdout",
     "output_type": "stream",
     "text": [
      "average score in a four folds for different C values: \n",
      "training:  [0.7026 0.7143 0.7161 0.7167 0.7169 0.717  0.717 ]\n",
      "test:  [0.6988 0.7131 0.7135 0.7123 0.7116 0.7116 0.7116]\n"
     ]
    }
   ],
   "source": [
    "# evaluate the performance\n",
    "print('average score in a four folds for different C values: ')\n",
    "print('training: ', train_scores.mean(axis= 1).round(4))\n",
    "print('test: ', test_scores.mean(axis= 1).round(4))"
   ]
  },
  {
   "cell_type": "code",
   "execution_count": 60,
   "id": "76884780",
   "metadata": {},
   "outputs": [
    {
     "name": "stderr",
     "output_type": "stream",
     "text": [
      "C:\\Users\\12029\\anaconda3\\lib\\site-packages\\sklearn\\svm\\_base.py:1206: ConvergenceWarning: Liblinear failed to converge, increase the number of iterations.\n",
      "  warnings.warn(\n"
     ]
    },
    {
     "data": {
      "text/plain": [
       "LinearSVC(random_state=0)"
      ]
     },
     "execution_count": 60,
     "metadata": {},
     "output_type": "execute_result"
    }
   ],
   "source": [
    "# define a LinearSVC(random_state= 0)\n",
    "# fit with training data\n",
    "BankChurn_svm= LinearSVC(random_state= 0)\n",
    "BankChurn_svm.fit(x_train, y_train)"
   ]
  },
  {
   "cell_type": "code",
   "execution_count": 61,
   "id": "32692e49",
   "metadata": {},
   "outputs": [
    {
     "name": "stdout",
     "output_type": "stream",
     "text": [
      "LinearSVC on train:  51.98%\n",
      "LinearSVC on test:  51.03%\n"
     ]
    }
   ],
   "source": [
    "# evaluate the model\n",
    "print('LinearSVC on train: {: .2%}'.format(BankChurn_svm.score(x_train, y_train)))\n",
    "print('LinearSVC on test: {: .2%}'.format(BankChurn_svm.score(x_test, y_test)))"
   ]
  },
  {
   "cell_type": "markdown",
   "id": "7fad7287",
   "metadata": {},
   "source": [
    "## Random Forest"
   ]
  },
  {
   "cell_type": "code",
   "execution_count": 62,
   "id": "59e14511",
   "metadata": {},
   "outputs": [],
   "source": [
    "from sklearn.ensemble import RandomForestClassifier"
   ]
  },
  {
   "cell_type": "code",
   "execution_count": 63,
   "id": "440e85bf",
   "metadata": {},
   "outputs": [
    {
     "data": {
      "text/plain": [
       "RandomForestClassifier(n_estimators=60, random_state=0)"
      ]
     },
     "execution_count": 63,
     "metadata": {},
     "output_type": "execute_result"
    }
   ],
   "source": [
    "rf1= RandomForestClassifier(n_estimators= 60, random_state= 0)\n",
    "rf1.fit(x_train, y_train)"
   ]
  },
  {
   "cell_type": "code",
   "execution_count": 64,
   "id": "f9508be2",
   "metadata": {
    "scrolled": false
   },
   "outputs": [
    {
     "name": "stdout",
     "output_type": "stream",
     "text": [
      "rf1 on train:  100.00%\n",
      "rf1 on test:  77.53%\n"
     ]
    }
   ],
   "source": [
    "print('rf1 on train: {: .2%}'.format(rf1.score(x_train, y_train)))\n",
    "print('rf1 on test: {: .2%}'.format(rf1.score(x_test, y_test)))"
   ]
  },
  {
   "cell_type": "code",
   "execution_count": 65,
   "id": "cfe4b26e",
   "metadata": {},
   "outputs": [
    {
     "data": {
      "text/plain": [
       "array([0.12439766, 0.27263677, 0.07966621, 0.13584822, 0.11904129,\n",
       "       0.01869823, 0.03915866, 0.13294677, 0.01315544, 0.02512585,\n",
       "       0.01160438, 0.01433326, 0.01338725])"
      ]
     },
     "execution_count": 65,
     "metadata": {},
     "output_type": "execute_result"
    }
   ],
   "source": [
    "# feature importance in random forest\n",
    "rf1.feature_importances_"
   ]
  },
  {
   "cell_type": "code",
   "execution_count": 66,
   "id": "c80a5ac1",
   "metadata": {},
   "outputs": [
    {
     "data": {
      "text/html": [
       "<div>\n",
       "<style scoped>\n",
       "    .dataframe tbody tr th:only-of-type {\n",
       "        vertical-align: middle;\n",
       "    }\n",
       "\n",
       "    .dataframe tbody tr th {\n",
       "        vertical-align: top;\n",
       "    }\n",
       "\n",
       "    .dataframe thead th {\n",
       "        text-align: right;\n",
       "    }\n",
       "</style>\n",
       "<table border=\"1\" class=\"dataframe\">\n",
       "  <thead>\n",
       "    <tr style=\"text-align: right;\">\n",
       "      <th></th>\n",
       "      <th>importance</th>\n",
       "    </tr>\n",
       "  </thead>\n",
       "  <tbody>\n",
       "    <tr>\n",
       "      <th>age</th>\n",
       "      <td>0.272637</td>\n",
       "    </tr>\n",
       "    <tr>\n",
       "      <th>balance</th>\n",
       "      <td>0.135848</td>\n",
       "    </tr>\n",
       "    <tr>\n",
       "      <th>estimated_salary</th>\n",
       "      <td>0.132947</td>\n",
       "    </tr>\n",
       "    <tr>\n",
       "      <th>credit_score</th>\n",
       "      <td>0.124398</td>\n",
       "    </tr>\n",
       "    <tr>\n",
       "      <th>products_number</th>\n",
       "      <td>0.119041</td>\n",
       "    </tr>\n",
       "    <tr>\n",
       "      <th>tenure</th>\n",
       "      <td>0.079666</td>\n",
       "    </tr>\n",
       "    <tr>\n",
       "      <th>active_member</th>\n",
       "      <td>0.039159</td>\n",
       "    </tr>\n",
       "    <tr>\n",
       "      <th>country_Germany</th>\n",
       "      <td>0.025126</td>\n",
       "    </tr>\n",
       "    <tr>\n",
       "      <th>credit_card</th>\n",
       "      <td>0.018698</td>\n",
       "    </tr>\n",
       "    <tr>\n",
       "      <th>gender_Female</th>\n",
       "      <td>0.014333</td>\n",
       "    </tr>\n",
       "    <tr>\n",
       "      <th>gender_Male</th>\n",
       "      <td>0.013387</td>\n",
       "    </tr>\n",
       "    <tr>\n",
       "      <th>country_France</th>\n",
       "      <td>0.013155</td>\n",
       "    </tr>\n",
       "    <tr>\n",
       "      <th>country_Spain</th>\n",
       "      <td>0.011604</td>\n",
       "    </tr>\n",
       "  </tbody>\n",
       "</table>\n",
       "</div>"
      ],
      "text/plain": [
       "                  importance\n",
       "age                 0.272637\n",
       "balance             0.135848\n",
       "estimated_salary    0.132947\n",
       "credit_score        0.124398\n",
       "products_number     0.119041\n",
       "tenure              0.079666\n",
       "active_member       0.039159\n",
       "country_Germany     0.025126\n",
       "credit_card         0.018698\n",
       "gender_Female       0.014333\n",
       "gender_Male         0.013387\n",
       "country_France      0.013155\n",
       "country_Spain       0.011604"
      ]
     },
     "execution_count": 66,
     "metadata": {},
     "output_type": "execute_result"
    }
   ],
   "source": [
    " rf1_feat_imp= pd.DataFrame(data= rf1.feature_importances_, \n",
    "                           index= x_dummies.columns, columns= ['importance'])\n",
    " rf1_feat_imp.sort_values(by= ['importance'], ascending= False)"
   ]
  },
  {
   "cell_type": "markdown",
   "id": "968b7013",
   "metadata": {},
   "source": [
    "### Feature importance in a graph"
   ]
  },
  {
   "cell_type": "code",
   "execution_count": 67,
   "id": "dd1166a0",
   "metadata": {},
   "outputs": [
    {
     "data": {
      "image/png": "[encoded data removed]",
      "text/plain": [
       "<Figure size 432x288 with 1 Axes>"
      ]
     },
     "metadata": {
      "needs_background": "light"
     },
     "output_type": "display_data"
    }
   ],
   "source": [
    "(pd.Series(rf1.feature_importances_, index= x_dummies.columns)\n",
    ".nlargest(13)\n",
    ".plot(kind= 'barh')\n",
    ".invert_yaxis())"
   ]
  },
  {
   "cell_type": "markdown",
   "id": "05f5b5f5",
   "metadata": {},
   "source": [
    "### Prediction for Random Forest"
   ]
  },
  {
   "cell_type": "code",
   "execution_count": 68,
   "id": "33e129cc",
   "metadata": {},
   "outputs": [
    {
     "data": {
      "text/plain": [
       "Index(['credit_score', 'age', 'tenure', 'balance', 'products_number',\n",
       "       'credit_card', 'active_member', 'estimated_salary', 'country_France',\n",
       "       'country_Germany', 'country_Spain', 'gender_Female', 'gender_Male'],\n",
       "      dtype='object')"
      ]
     },
     "execution_count": 68,
     "metadata": {},
     "output_type": "execute_result"
    }
   ],
   "source": [
    "x_dummies.columns"
   ]
  },
  {
   "cell_type": "code",
   "execution_count": 69,
   "id": "7b29fb6c",
   "metadata": {},
   "outputs": [
    {
     "name": "stderr",
     "output_type": "stream",
     "text": [
      "C:\\Users\\12029\\anaconda3\\lib\\site-packages\\sklearn\\base.py:450: UserWarning: X does not have valid feature names, but RandomForestClassifier was fitted with feature names\n",
      "  warnings.warn(\n"
     ]
    },
    {
     "data": {
      "text/plain": [
       "array([1, 0, 0, 1, 1], dtype=int64)"
      ]
     },
     "execution_count": 69,
     "metadata": {},
     "output_type": "execute_result"
    }
   ],
   "source": [
    "# Making predictions\n",
    "p1=[270, 40, 5, 2000, 4, 1, 1, 40000, 1, 0, 0, 1, 0]\n",
    "p2=[720, 39, 2, 15000, 1, 1, 1, 62000, 0, 1, 0, 0, 1]\n",
    "p3=[800, 37, 5, 11000, 1, 1, 1, 30000, 0, 1, 0, 1, 0]\n",
    "p4=[30, 79, 2, 4345, 3, 1, 1, 50000, 0, 0, 1, 0, 1]\n",
    "p5=[720, 39, 2, 15000, 3, 0, 1, 62000, 0, 1, 0, 0, 1]\n",
    "rf1.predict([p1, p2, p3, p4, p5])"
   ]
  },
  {
   "cell_type": "code",
   "execution_count": 70,
   "id": "71ae033f",
   "metadata": {},
   "outputs": [
    {
     "name": "stderr",
     "output_type": "stream",
     "text": [
      "C:\\Users\\12029\\anaconda3\\lib\\site-packages\\sklearn\\base.py:450: UserWarning: X does not have valid feature names, but RandomForestClassifier was fitted with feature names\n",
      "  warnings.warn(\n"
     ]
    },
    {
     "data": {
      "text/plain": [
       "array([0, 1, 1, 0, 1], dtype=int64)"
      ]
     },
     "execution_count": 70,
     "metadata": {},
     "output_type": "execute_result"
    }
   ],
   "source": [
    "# Making predictions\n",
    "p1=[700, 60, 5, 1000, 2, 1, 1, 40000, 1, 0, 0, 1, 0]\n",
    "p2=[600, 50, 6, 15000, 1, 1, 1, 80000, 1, 0, 0, 1, 0]\n",
    "p3=[500, 50, 3, 20000, 1, 1, 1, 60000, 1, 0, 0, 1, 0]\n",
    "p4=[400, 30, 4, 1000, 2, 1, 1, 10000, 1, 0, 0, 1, 0]\n",
    "p5=[500, 60, 3, 20000, 4, 1, 1, 60000, 1, 0, 0, 1, 0]\n",
    "rf1.predict([p1, p2, p3, p4, p5])\n"
   ]
  },
  {
   "cell_type": "code",
   "execution_count": null,
   "id": "e96f3b85",
   "metadata": {},
   "outputs": [],
   "source": []
  }
 ],
 "metadata": {
  "kernelspec": {
   "display_name": "Python 3 (ipykernel)",
   "language": "python",
   "name": "python3"
  },
  "language_info": {
   "codemirror_mode": {
    "name": "ipython",
    "version": 3
   },
   "file_extension": ".py",
   "mimetype": "text/x-python",
   "name": "python",
   "nbconvert_exporter": "python",
   "pygments_lexer": "ipython3",
   "version": "3.9.12"
  },
  "toc": {
   "base_numbering": 1,
   "nav_menu": {},
   "number_sections": true,
   "sideBar": true,
   "skip_h1_title": false,
   "title_cell": "Table of Contents",
   "title_sidebar": "Contents",
   "toc_cell": false,
   "toc_position": {
    "height": "calc(100% - 180px)",
    "left": "10px",
    "top": "150px",
    "width": "279.273px"
   },
   "toc_section_display": true,
   "toc_window_display": true
  }
 },
 "nbformat": 4,
 "nbformat_minor": 5
}
